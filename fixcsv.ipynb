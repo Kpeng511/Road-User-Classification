{
 "cells": [
  {
   "cell_type": "code",
   "execution_count": 80,
   "metadata": {},
   "outputs": [],
   "source": [
    "import pandas as pd\n",
    "import seaborn as sns\n",
    "import matplotlib.pyplot as plt\n",
    "from mpl_toolkits import mplot3d\n",
    "%matplotlib inline\n",
    "from sklearn.preprocessing import OneHotEncoder"
   ]
  },
  {
   "cell_type": "code",
   "execution_count": 81,
   "metadata": {},
   "outputs": [],
   "source": [
    "df = pd.read_csv('vrudata.csv')"
   ]
  },
  {
   "cell_type": "code",
   "execution_count": 82,
   "metadata": {},
   "outputs": [
    {
     "data": {
      "text/html": [
       "<div>\n",
       "<style scoped>\n",
       "    .dataframe tbody tr th:only-of-type {\n",
       "        vertical-align: middle;\n",
       "    }\n",
       "\n",
       "    .dataframe tbody tr th {\n",
       "        vertical-align: top;\n",
       "    }\n",
       "\n",
       "    .dataframe thead th {\n",
       "        text-align: right;\n",
       "    }\n",
       "</style>\n",
       "<table border=\"1\" class=\"dataframe\">\n",
       "  <thead>\n",
       "    <tr style=\"text-align: right;\">\n",
       "      <th></th>\n",
       "      <th>acc_x</th>\n",
       "      <th>acc_y</th>\n",
       "      <th>acc_z</th>\n",
       "      <th>target</th>\n",
       "    </tr>\n",
       "  </thead>\n",
       "  <tbody>\n",
       "    <tr>\n",
       "      <th>0</th>\n",
       "      <td>-0.113725</td>\n",
       "      <td>0.083797</td>\n",
       "      <td>9.654618</td>\n",
       "      <td>not car</td>\n",
       "    </tr>\n",
       "    <tr>\n",
       "      <th>1</th>\n",
       "      <td>-0.098162</td>\n",
       "      <td>0.087388</td>\n",
       "      <td>9.630676</td>\n",
       "      <td>not car</td>\n",
       "    </tr>\n",
       "    <tr>\n",
       "      <th>2</th>\n",
       "      <td>-0.099359</td>\n",
       "      <td>0.094571</td>\n",
       "      <td>9.645041</td>\n",
       "      <td>not car</td>\n",
       "    </tr>\n",
       "    <tr>\n",
       "      <th>3</th>\n",
       "      <td>-0.099359</td>\n",
       "      <td>0.089783</td>\n",
       "      <td>9.649830</td>\n",
       "      <td>not car</td>\n",
       "    </tr>\n",
       "    <tr>\n",
       "      <th>4</th>\n",
       "      <td>-0.118513</td>\n",
       "      <td>0.087388</td>\n",
       "      <td>9.634268</td>\n",
       "      <td>not car</td>\n",
       "    </tr>\n",
       "    <tr>\n",
       "      <th>...</th>\n",
       "      <td>...</td>\n",
       "      <td>...</td>\n",
       "      <td>...</td>\n",
       "      <td>...</td>\n",
       "    </tr>\n",
       "    <tr>\n",
       "      <th>119995</th>\n",
       "      <td>-0.624887</td>\n",
       "      <td>7.577648</td>\n",
       "      <td>6.683414</td>\n",
       "      <td>car</td>\n",
       "    </tr>\n",
       "    <tr>\n",
       "      <th>119996</th>\n",
       "      <td>-0.508768</td>\n",
       "      <td>7.480683</td>\n",
       "      <td>6.556521</td>\n",
       "      <td>car</td>\n",
       "    </tr>\n",
       "    <tr>\n",
       "      <th>119997</th>\n",
       "      <td>-0.409408</td>\n",
       "      <td>7.443573</td>\n",
       "      <td>6.370971</td>\n",
       "      <td>car</td>\n",
       "    </tr>\n",
       "    <tr>\n",
       "      <th>119998</th>\n",
       "      <td>-0.373495</td>\n",
       "      <td>7.406463</td>\n",
       "      <td>6.108806</td>\n",
       "      <td>car</td>\n",
       "    </tr>\n",
       "    <tr>\n",
       "      <th>119999</th>\n",
       "      <td>-0.410606</td>\n",
       "      <td>7.387310</td>\n",
       "      <td>5.826290</td>\n",
       "      <td>car</td>\n",
       "    </tr>\n",
       "  </tbody>\n",
       "</table>\n",
       "<p>120000 rows × 4 columns</p>\n",
       "</div>"
      ],
      "text/plain": [
       "           acc_x     acc_y     acc_z   target\n",
       "0      -0.113725  0.083797  9.654618  not car\n",
       "1      -0.098162  0.087388  9.630676  not car\n",
       "2      -0.099359  0.094571  9.645041  not car\n",
       "3      -0.099359  0.089783  9.649830  not car\n",
       "4      -0.118513  0.087388  9.634268  not car\n",
       "...          ...       ...       ...      ...\n",
       "119995 -0.624887  7.577648  6.683414      car\n",
       "119996 -0.508768  7.480683  6.556521      car\n",
       "119997 -0.409408  7.443573  6.370971      car\n",
       "119998 -0.373495  7.406463  6.108806      car\n",
       "119999 -0.410606  7.387310  5.826290      car\n",
       "\n",
       "[120000 rows x 4 columns]"
      ]
     },
     "execution_count": 82,
     "metadata": {},
     "output_type": "execute_result"
    }
   ],
   "source": [
    "df"
   ]
  },
  {
   "cell_type": "code",
   "execution_count": 83,
   "metadata": {},
   "outputs": [],
   "source": [
    "df['target'] = df['target'].replace(0, 'not car')\n",
    "df['target'] = df['target'].replace(1, 'car')"
   ]
  },
  {
   "cell_type": "code",
   "execution_count": 84,
   "metadata": {},
   "outputs": [],
   "source": [
    "df.to_csv('vrudata.csv', encoding = 'utf-8', index = False)"
   ]
  }
 ],
 "metadata": {
  "kernelspec": {
   "display_name": "Python 3",
   "language": "python",
   "name": "python3"
  },
  "language_info": {
   "codemirror_mode": {
    "name": "ipython",
    "version": 3
   },
   "file_extension": ".py",
   "mimetype": "text/x-python",
   "name": "python",
   "nbconvert_exporter": "python",
   "pygments_lexer": "ipython3",
   "version": "3.8.3"
  }
 },
 "nbformat": 4,
 "nbformat_minor": 4
}
