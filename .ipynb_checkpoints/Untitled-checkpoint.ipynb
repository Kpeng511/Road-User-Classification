{
 "cells": [
  {
   "cell_type": "code",
   "execution_count": 9,
   "metadata": {},
   "outputs": [],
   "source": [
    "import pandas as pd\n",
    "import matplotlib.pyplot as plt\n",
    "from matplotlib.pyplot import figure\n",
    "import datetime"
   ]
  },
  {
   "cell_type": "code",
   "execution_count": 2,
   "metadata": {},
   "outputs": [
    {
     "name": "stdout",
     "output_type": "stream",
     "text": [
      "<class 'pandas.core.frame.DataFrame'>\n",
      "RangeIndex: 8 entries, 0 to 7\n",
      "Data columns (total 5 columns):\n",
      " #   Column                    Non-Null Count  Dtype  \n",
      "---  ------                    --------------  -----  \n",
      " 0   year_month                8 non-null      object \n",
      " 1   vip_aov                   8 non-null      int64  \n",
      " 2   vip_avg_purchase_cnt      8 non-null      float64\n",
      " 3   regular_aov               8 non-null      int64  \n",
      " 4   regular_avg_purchase_cnt  8 non-null      float64\n",
      "dtypes: float64(2), int64(2), object(1)\n",
      "memory usage: 448.0+ bytes\n"
     ]
    }
   ],
   "source": [
    "dataset = pd.read_csv(\"sheet1.csv\")\n",
    "dataset = dataset.tail(8)\n",
    "dataset.info()"
   ]
  },
  {
   "cell_type": "code",
   "execution_count": 3,
   "metadata": {},
   "outputs": [
    {
     "data": {
      "text/html": [
       "<div>\n",
       "<style scoped>\n",
       "    .dataframe tbody tr th:only-of-type {\n",
       "        vertical-align: middle;\n",
       "    }\n",
       "\n",
       "    .dataframe tbody tr th {\n",
       "        vertical-align: top;\n",
       "    }\n",
       "\n",
       "    .dataframe thead th {\n",
       "        text-align: right;\n",
       "    }\n",
       "</style>\n",
       "<table border=\"1\" class=\"dataframe\">\n",
       "  <thead>\n",
       "    <tr style=\"text-align: right;\">\n",
       "      <th></th>\n",
       "      <th>year_month</th>\n",
       "      <th>vip_aov</th>\n",
       "      <th>vip_avg_purchase_cnt</th>\n",
       "      <th>regular_aov</th>\n",
       "      <th>regular_avg_purchase_cnt</th>\n",
       "    </tr>\n",
       "  </thead>\n",
       "  <tbody>\n",
       "    <tr>\n",
       "      <th>0</th>\n",
       "      <td>2021/1</td>\n",
       "      <td>23</td>\n",
       "      <td>1.2</td>\n",
       "      <td>13</td>\n",
       "      <td>1.1</td>\n",
       "    </tr>\n",
       "    <tr>\n",
       "      <th>1</th>\n",
       "      <td>2021/2</td>\n",
       "      <td>24</td>\n",
       "      <td>1.4</td>\n",
       "      <td>15</td>\n",
       "      <td>1.0</td>\n",
       "    </tr>\n",
       "    <tr>\n",
       "      <th>2</th>\n",
       "      <td>2021/3</td>\n",
       "      <td>26</td>\n",
       "      <td>1.3</td>\n",
       "      <td>17</td>\n",
       "      <td>1.2</td>\n",
       "    </tr>\n",
       "    <tr>\n",
       "      <th>3</th>\n",
       "      <td>2021/4</td>\n",
       "      <td>28</td>\n",
       "      <td>1.3</td>\n",
       "      <td>23</td>\n",
       "      <td>1.3</td>\n",
       "    </tr>\n",
       "    <tr>\n",
       "      <th>4</th>\n",
       "      <td>2021/5</td>\n",
       "      <td>29</td>\n",
       "      <td>1.5</td>\n",
       "      <td>20</td>\n",
       "      <td>1.1</td>\n",
       "    </tr>\n",
       "  </tbody>\n",
       "</table>\n",
       "</div>"
      ],
      "text/plain": [
       "  year_month  vip_aov  vip_avg_purchase_cnt  regular_aov  \\\n",
       "0     2021/1       23                   1.2           13   \n",
       "1     2021/2       24                   1.4           15   \n",
       "2     2021/3       26                   1.3           17   \n",
       "3     2021/4       28                   1.3           23   \n",
       "4     2021/5       29                   1.5           20   \n",
       "\n",
       "   regular_avg_purchase_cnt  \n",
       "0                       1.1  \n",
       "1                       1.0  \n",
       "2                       1.2  \n",
       "3                       1.3  \n",
       "4                       1.1  "
      ]
     },
     "execution_count": 3,
     "metadata": {},
     "output_type": "execute_result"
    }
   ],
   "source": [
    "dataset.head()"
   ]
  },
  {
   "cell_type": "code",
   "execution_count": 4,
   "metadata": {},
   "outputs": [],
   "source": [
    "new_ym = [datetime.datetime.strptime(string, '%Y/%m') for string in dataset['year_month']]\n",
    "dataset['year_month'] = new_ym"
   ]
  },
  {
   "cell_type": "code",
   "execution_count": 5,
   "metadata": {},
   "outputs": [
    {
     "name": "stdout",
     "output_type": "stream",
     "text": [
      "<class 'pandas.core.frame.DataFrame'>\n",
      "RangeIndex: 8 entries, 0 to 7\n",
      "Data columns (total 5 columns):\n",
      " #   Column                    Non-Null Count  Dtype         \n",
      "---  ------                    --------------  -----         \n",
      " 0   year_month                8 non-null      datetime64[ns]\n",
      " 1   vip_aov                   8 non-null      int64         \n",
      " 2   vip_avg_purchase_cnt      8 non-null      float64       \n",
      " 3   regular_aov               8 non-null      int64         \n",
      " 4   regular_avg_purchase_cnt  8 non-null      float64       \n",
      "dtypes: datetime64[ns](1), float64(2), int64(2)\n",
      "memory usage: 448.0 bytes\n"
     ]
    }
   ],
   "source": [
    "dataset.info()"
   ]
  },
  {
   "cell_type": "code",
   "execution_count": 15,
   "metadata": {},
   "outputs": [
    {
     "data": {
      "image/png": "[encoded data removed]",
      "text/plain": [
       "<Figure size 640x480 with 1 Axes>"
      ]
     },
     "metadata": {
      "needs_background": "light"
     },
     "output_type": "display_data"
    }
   ],
   "source": [
    "x = dataset.year_month\n",
    "y_VIP = dataset.vip_aov\n",
    "y_regular = dataset.regular_aov\n",
    "\n",
    "figure(figsize=(8, 6), dpi=80)\n",
    "plt.title('VIP_aov versus regular_aov')\n",
    "plt.plot(x, y_VIP, color = 'r', label = 'VIP_aov')\n",
    "plt.plot(x, y_regular, color = 'b', label = 'regular_aov')\n",
    "plt.legend(['VIP_aov','regular_aov'])\n",
    "plt.xlabel('Year-Month')\n",
    "plt.ylabel('Average Order Volume')\n",
    "plt.grid(True)"
   ]
  }
 ],
 "metadata": {
  "kernelspec": {
   "display_name": "Python 3",
   "language": "python",
   "name": "python3"
  },
  "language_info": {
   "codemirror_mode": {
    "name": "ipython",
    "version": 3
   },
   "file_extension": ".py",
   "mimetype": "text/x-python",
   "name": "python",
   "nbconvert_exporter": "python",
   "pygments_lexer": "ipython3",
   "version": "3.8.3"
  }
 },
 "nbformat": 4,
 "nbformat_minor": 4
}
